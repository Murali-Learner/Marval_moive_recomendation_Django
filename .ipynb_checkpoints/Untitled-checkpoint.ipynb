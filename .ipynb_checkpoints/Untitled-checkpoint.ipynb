{
 "cells": [
  {
   "cell_type": "code",
   "execution_count": 4,
   "metadata": {},
   "outputs": [
    {
     "name": "stdout",
     "output_type": "stream",
     "text": [
      "TImesOf India\n"
     ]
    },
    {
     "data": {
      "text/plain": [
       "{'‘Using terror as political tool dangerous’: PM Modi slams Pakistan at UNGA': 'Prime Minister Narendra Modi expectedly had a message in his UN General Assembly address for Pakistan, as he slammed use of terrorism as a political tool, but equally significantly for China as he said the “reliability’’ of global institutions of governance, built over decades, had been hit by their handling of issues like Covid-19 origin and ‘ease of doing business’ rankings.',\n",
       " 'Come, make in India: PM Modi woos global vaccine manufacturers': 'PM Narendra Modi on Saturday made an important effort to put India on the front-line of the global fight against Covid-19, by inviting global vaccine manufacturers to “come and make vaccines in India”. “I, today, invite vaccine manufacture around the world — come, make vaccines in India,” PM Modi said while addressing the 76th session of the UN General Assembly.',\n",
       " 'Pakistan an arsonist in guise of a fire-fighter: Indian diplomat': ' India’s diplomat Sneha Dubey delivered a fiery rebuttal to Pakistan PM Imran Khan raking up the Jammu & Kashmir issue in his UNGA address, saying Pakistan has nurtured terrorists for long and is an “arsonist disguising itself as a fire-fighter”.  Dubey, an IFS officer of 2012 batch, was exercising India’s right of reply, and added that Pakistan held the ignoble record of hosting the largest number of terrorists proscribed by the UN Security Council.',\n",
       " 'Cyclone Gulab set to hit Andhra Pradesh, Odisha today': 'In a rare occurrence during September, a cyclone is set to hit the north Andhra-south Odisha coast on Sunday evening with expected wind speeds gusting up to 95kmph, the IMD has warned. The cyclone, christened ‘Gulab’, intensified from a deep depression over north Bay of Bengal on Saturday afternoon and is expected to make landfall by Sunday around Kalingapatnam, the IMD said.',\n",
       " 'No change in Covishield dose gap: NTAGI chief': 'Dr N K Arora, chairman of the Covid-19 working group of National Technical Advisory Group on Immunisation (NTAGI), on Saturday ruled out any changes in the gap between two doses of Covishield citing scientific studies suggesting the vaccine’s higher efficacy when the interval between the shots was longer.',\n",
       " 'Channi’s new team likely to have 7 new faces': ' After days of hectic discussions and uncertainty, the Congress leadership finally arrived at a consensus on who all will join the Punjab cabinet. The list was cleared during CM Charanjit Singh Channi’s meeting with Rahul Gandhi that went on past Friday midnight. ',\n",
       " 'India’s renewable energy push shows results at sub-national levels as states gear up to shun coal': 'India may not be in a position to stop the use of new coal-based power generation for the next couple of decades like many other nations who have signed “no new coal power compact”, but the country’s strong renewable push may show results at sub-national levels. This as it encourages states such as Gujarat, Maharashtra and Bihar, besides the Union territory of Ladakh to work towards a carbon-neutral future in due course.',\n",
       " 'Suicide car bomb in Somali capital kills at least 7: Official': 'It was not immediately clear who was responsible for the attack, but al Shabaab, which wants to overthrow the government and impose its interpretation of Islamic law, frequently carries out such bombings. ',\n",
       " \"UK unveils new medal to celebrate Queen's Platinum Jubilee in 2022\": \"The medal, awarded to frontline members of the police, fire, emergency services, prison services and Armed Forces with five years' service, will form part of commemorations of 70 years of the 95-year-old British monarch's rule in 2022.\",\n",
       " 'Biden loses ground with the American public': \"With his administration facing multiple challenges at home and abroad, US President Joe Biden's job approval rating has fallen sharply in the past two months, says a research by Pew Research Center.\",\n",
       " 'Ex-Hizb terrorist, absconding for 19 yrs, arrested in Kishtwar': 'Kishtwar police of Jammu and Kashmir have arrested a former terrorist of Hizbul Mujahideen who had been evading arrest for 19 years. A police spokesman said on Saturday a special police party carried out raids at various locations on the basis of specific information, and arrested the former terrorist, identified as Dulla alias Jameel, at Kundwar village in Chatroo area of Kishtwar district.',\n",
       " 'Food fortification temporary measure to tackle malnutrition: ICMR-NIN director': 'The government is planning to fortify the rice distributed to the poor via different schemes such as midday meals in a bid to tackle malnutrition. PM Modi had recently announced that whether through ration shops or the Mid Day Meal (MDM) scheme, the rice made available under every government programme would be fortified by 2024.',\n",
       " 'Bill seeks to save thousands of employment-linked green cards from going to waste': 'USCIS will also be enabled to award green cards to eligible applicants from the pool of unused employment-based immigrant green cards during the fiscal years 2020 and 2021. While a short summary of the bill is available, the entire text has not yet been issued in the public domain. If the bill is passed, it will greatly help the Indian diaspora stuck for decades in the green card backlog.',\n",
       " \"DC vs RR: Bowlers script Delhi Capitals' 33-run win\": \"Delhi Capitals's bowling unit restricted Rajasthan Royals to 121 for six after the team put on board 154 for six on the back of Shreyas Iyer's 43 and a late flourish provided by Shimron Hetmyer who scored 28 runs off 16 balls. Sanju Samson scored an unbeaten 70, but with wickets tumbling at regular intervals from the other end, the Royals innings failed to get the momentum it needed.\",\n",
       " \"Centre didn't allow me to attend Rome meet out of jealousy: Mamata\": 'The ministry of external affairs in a one-line communique, which reached the secretariat during the day said the \"event is not commensurate for (attendance at) the level of chief minister\", a secretariat official said.',\n",
       " \"'Afghan soil must not be used for terrorism': India, US remind Taliban of commitments\": \"India and US have called upon the Taliban to keep their commitments on human rights, women's issues, minorities and not allowing Afghan soil to be used for terrorism. In a joint statement after the Modi-Biden bilateral talks in Washington on Friday, the two leaders underscored the importance of combating terrorism in Afghanistan.\",\n",
       " 'India reports 29,616 new Covid-19 cases in last 24 hours': ' India on Saturday reported 29,616 new Covid cases in the last 24 hours, pushing the total coronavirus tally in the country to 3,36,24,419, according to the data updated by the ministry of health and family welfare at 9am. With 290 new fatalities reported in the last 24 hours, the death toll has jumped to 4,46,658.',\n",
       " 'IPL 2021: CSK win again, RCB lose again - Who said what': 'The Chennai Super Kings are displaying some great consistency. The MS Dhoni-led side has made it two wins in two matches now in phase 2 of the Indian Premier League 2021. On Friday, they beat Virat Kohli and his Royal Challengers Bangalore team by six wickets to reclaim the top spot on the points table from the Delhi Capitals on Net Run Rate.',\n",
       " 'PM Modi raises issue of H-1B visas with President Biden: Shringla': ' Prime Minister Narendra Modi in his first-ever in-person meeting with President Joe Biden raised a number of issues involving the Indian community in America, including access for Indian professionals in the US and speaking about the H-1B visas, Foreign Secretary Harsh Vardhan Shringla has said.',\n",
       " 'IPL 2021: We have to show more courage in crunch moments, says RCB captain Virat Kohli': 'The CSK batting line-up, led by the solid foundation laid by openers Ruturaj Gaikwad and Faf du Plessis, chased down the target of 156 in 18.1 overs to beat RCB here at the Sharjah Cricket Stadium.',\n",
       " \"Our players have understood their roles, says MS Dhoni on CSK's turnaround\": 'Three-time winners CSK endured their worst outing last season when they finished seventh in the eight-team league, a far cry from the manner in which they are dominating in this edition, including their latest six-wicket win over Royal Challengers Bangalore.',\n",
       " \"IPL 2021: MS Dhoni's men thump shoddy RCB to go top of the table\": 'On Friday night at the sandswept Sharjah Cricket Stadium, there was one thing in common between Royal Challengers Bangalore and Chennai Super Kings. Their openers got them off to a good start. The similarity ended there and the differences thereafter were jarring.',\n",
       " 'Quad Erat Demonstrandrum: Concert of four democracies stand up to China without mentioning it': 'Leaders from four diverse democratic nations, each country separated by thousands of miles of sea lanes, met at the White House on Friday for the first in-person Quad summit and said they would work together as only democracies can to address some of the most pressing challenges of the times.',\n",
       " 'India, US committed to taking on toughest challenges together, says Biden': \"India and the US are the world's largest democracies and the two countries are committed to taking on the toughest challenges together, President Joe Biden said after his first-ever in-person meeting with Prime Minister Narendra Modi at the White House. The meeting of the two leaders in the Oval Office of the White House on Friday lasted for more than 90 minutes, instead of the scheduled 60 minutes.\",\n",
       " 'Defence ministry inks Rs 21000-crore deal with Airbus for 56 IAF planes': 'The Union defence ministry on Friday inked the over Rs 21,000 crore (around $3 billion) contract with Airbus Defence and Space (Spain) to acquire 56 C-295 medium transport aircraft to replace old Avro planes of the IAF. Airbus will deliver 16 of the twin-turboprop C-295MW aircraft in a flyaway condition within two years, with the remaining 40 being manufactured in India by the Tata Consortium.',\n",
       " 'Sachin Pilot-Rahul Gandhi meet sparks Raj rejig buzz': 'Congress leader Sachin Pilot was apparently called for discussions, in which Rahul Gandhi and Priyanka Vadra both were present. A cabinet reshuffle in the Gehlot government is pending for a while now. The state government is to be rejigged by including MLAs loyal to Pilot, while the party is also to appoint district presidents and chairmen of state corporations.',\n",
       " \"Ramjanmabhoomi owner, Ram Lalla's 'friend' Triloki Nath Pandey passes away\": 'Triloki Nath Pandey, who was bestowed with the ownership of 2.77 acres of Ramjanmabhoomi (birth place of Lord Ram) by the historic Supreme Court decree of November 9, 2019, by virtue of his stature as “Fast Friend of Ram Lalla”, passed away late Friday. He was 75.',\n",
       " 'Airspace map for drone operations released: Know where all you can fly them': 'The aviation ministry on Friday released India’s airspace map for drone operations which clearly demarcates where all can drones be flown (green zone), not flown (red list) or flown with previous clearance (yellow zone).',\n",
       " 'Huawei CFO, US reach agreement to resolve bank fraud charges': 'Huawei Technologies chief financial officer Meng Wanzhou has reached an agreement with US prosecutors to resolve the bank fraud case against her, according to sources familiar with the matter, in a process that should allow her to leave Canada.',\n",
       " 'New semiconductor plants will end global auto chip shortage next year: Elon Musk': 'Tesla Inc CEO Elon Musk said on Friday that thanks to new semiconductor plants that are planned or under construction, the global chip shortage that has pummelled the car industry this year should be short term in nature.',\n",
       " 'Diesel price hiked after 67 days as crude tops $77 per barrel to hit 3-year high': 'State-run fuel retailers on Friday raised diesel price by a modest 20 paise a litre, the first increase since July 17 — still suffering under-recoveries of 45 paise per litre — as benchmark Brent crude spiked to three-year high of $77.65 per barrel on high hopes of recovery.',\n",
       " \"Royal Challengers Bangalore vs Chennai Super Kings Highlights: MS Dhoni's CSK humble Virat Kohli's RCB with all-round show, claim top spot\": 'CSK produced a clinical all-round show to humble RCB by six wickets and claim the top spot in the IPL pecking order. Kohli (53) and Padikkal (70) struck brisk fifties in an impressive 111-run stand but CSK pulled the strings to restrict them to 156 for six after electing to bowl. In-form Gaikwad came good again with a quick 38 while Du Plessis made 31 as Chennai won the match with 11 balls to spare. ',\n",
       " \"'Ties destined to be stronger, tighter': PM holds first bilateral meeting with Biden\": 'Prime Minister Narendra Modi met Joe Biden at the White House on Friday in his first bilateral meeting with the US President during which the two leaders are expected to discuss a wide range of priority issues, including combating Covid-19, climate change, economic cooperation as well as Afghanistan.',\n",
       " 'Govt borrows 58% of target despite 74% more direct tax collections': 'In spite of the Centre collecting a whopping 74 per cent more direct taxes so far this fiscal on an annualised basis at Rs 5.70 lakh crore, it has also borrowed a massive 58 per cent of the budgeted amount during the same period by selling Rs 7.02 lakh crore worth of debt securities in the market.',\n",
       " 'Ford India head quits after company says to stop making cars in country': \"Ford Motor Co's India head Anurag Mehrotra has quit the company to pursue other career opportunities, days after the US automaker said it would stop making cars in the Asian nation, taking a hit of $2 billion.\",\n",
       " \"China's top regulators ban crypto trading and mining, bitcoin tumbles\": 'Ten agencies, including the central bank as well as banking, securities and foreign exchange regulators, vowed to work together to root out \"illegal\" cryptocurrency activity, the first time the Beijing-based agencies have joined forces to explicitly ban all cryptocurrency-related activity.',\n",
       " 'UPSC civil services final result 2020 declared; Shubham Kumar tops': ' Union Public Service Commission (UPSC) declared the final result of civil services examination, 2020. A total of 761 candidates have been recommended for appointment. \\u200b\\u200bShubham Kumar has topped the exam. He has graduated in B Tech (Civil Engineering) from IIT Bombay.',\n",
       " 'Sensex journey to 60,000: Explained in 10 charts': 'Domestic benchmark indices continued their bullish streak on Friday with the BSE sensex crossing yet another milestone of breaching the 60,000-mark. After scaling an intra-day high of 60,333, the 30-share BSE index jumped 163 points or 0.27 per cent to close at fresh peak of 60,048. While, the broader NSE Nifty settled 30 points or 0.17 per cent higher at new record of 17,853.',\n",
       " 'Rahul targets PM Modi over eastern Ladakh standoff': ' Congress leader Rahul Gandhi on Friday hit out at Prime Minister Narendra Modi alleging that he is \"scared\" of China. \"Mr 56-inch is scared of China,\" he said on Twitter, putting out a short video clip detailing the events at the border with China.',\n",
       " \"Adityanath will lead BJP in assembly polls, issue of next CM 'settled': Dy CM Dinesh Sharma\": \"Uttar Pradesh deputy chief minister Dinesh Sharma has said the issue of the state's next CM is already “settled” with the BJP top brass making it clear that the coming assembly elections will be fought under the leadership of Yogi Adityanath. He also said the construction of the Ram temple in Ayodhya was not a political issue, but a matter of faith for the BJP.\",\n",
       " 'PM Modi’s special gift to Kamala Harris': ' Prime Minister Narendra Modi had a successful bilateral meeting with VP Kamala Harris. The Prime Minister gave to very special gifts to the American Vice President. In a very touching gesture, PM Modi presented VP Harris a copy of old notifications related to her grandfather, PV Gopalan in a wooden handicraft frame.',\n",
       " 'Italy recognises Covishield; travellers jabbed in India eligible for Green Pass: Indian embassy in Rome': 'Italy has become the latest EU member to recognise WHO-approved Covishield, after several others like Germany, Switzerland, France and Spain. Indian vaccine card holders are now eligible for GreenPass, The Indian embassy in Rome tweeted Friday. ',\n",
       " 'Shootout at Rohini court in Delhi: How it happened': \"In a dramatic shootout inside Delhi's Rohini court, three persons, including a dreaded gangster, were killed on Friday. Delhi Police personnel brought gangster Jitendra Gogi to produce him before a court in Rohini. Two persons allegedly dressed as lawyers breached security. They shot dead the most-wanted gangster Jitendra Gogi in a corridor of the court as people heard multiple gunshots.\",\n",
       " 'Quad leaders to meet at White House amid shared China concerns': \"Leaders of United States, Japan, India and Australia, sharing concerns about China's growing power and behavior, meet in person as a group for the first time on Friday for a summit expected to bring progress on Covid-19 vaccines, infrastructure and technological cooperation.\",\n",
       " \"'We created a brotherhood': Leander Paes on his successful partnership with Mahesh Bhupathi\": 'This \"brotherhood\" between the two Indian tennis icons, who were the first doubles team from the country to win at Wimbledon in 1999, is what the two tennis legends have revisited through a non-fiction series \"Break Point\". Paes said the audience will get to see a faithful representation of their journey through the series, directed by filmmaker couple Nitesh Tiwari and Ashwiny Iyer Tiwari.',\n",
       " 'Air Marshal Vivek Ram Chaudhari appointed as new IAF chief': 'Air Marshal Vivek Ram Chaudhari will take charge as Chief of Air Staff on September 30, after the incumbent, Air Chief Marshal RKS Bhadauria retires, the defence ministry said on Friday. Chaudhari, who is presently the Vice Chief of Air Staff and has been an ace MiG-29 pilot expert in major MiG-29 fighter aircraft. He\\u200b has a flying experience of more than 3800 hours, including operational flying on MiG-21, MiG-23 MF, MiG 29 and Su-30 MKI fighter jets.',\n",
       " 'Amazon launches service aggregating video streaming apps in India': 'Amazon.com Inc launched in India on Friday eight global and local streaming services on its video platform, in a move aimed at boosting subscriptions. The move comes at a time of increasing competition from global and domestic rivals in an important market for the US tech company.',\n",
       " 'President Kovind confers National Service Scheme Awards for 2019-20': 'President Ram Nath Kovind conferred the National Service Scheme (NSS) Awards for 2019-20 from Rashtrapati Bhawan through virtual mode on Friday. Addressing the ceremony, Kovind said, \"India is called a young country. I congratulate all the awardees. With the primary objective of developing the personality and character of students through voluntary community service, NSS (central sector) was launched in 1969.\"',\n",
       " 'Covid-19: India reports 31,382 new cases in last 24 hours': 'India on Friday reported 31,382 new Covid-19 cases, pushing the overall coronavirus tally to 33,594,803, according to the data updated by ministry of health and family welfare at 9am. With 318 new fatalities, the death toll has further jumped to 4,46,368.',\n",
       " 'IPL 2021: Mumbai Indians looking after needs of Team India as well, Hardik Pandya getting closer to playing, says Shane Bond': 'Mumbai Indians bowling coach Shane Bond has said that the franchise is also looking at the needs of Team India when managing the workload of all-rounder Hardik Pandya.'}"
      ]
     },
     "execution_count": 4,
     "metadata": {},
     "output_type": "execute_result"
    }
   ],
   "source": [
    "from bs4 import BeautifulSoup\n",
    "import requests\n",
    "\n",
    "print(\"TImes Of India\")\n",
    "\n",
    "toi_r = requests.get(\"https://timesofindia.indiatimes.com/briefs\")\n",
    "toi_soup = BeautifulSoup(toi_r.content, 'html.parser')\n",
    "body = toi_soup.find(\"body\")\n",
    "container = body.find(\"div\", {\"id\": \"container\"})\n",
    "content = (container.find(\"div\", {\"id\": \"content\"})).find(\"div\", {\n",
    "    \"class\": \"wrapper clearfix politics\"}).find(\"div\", {\"class\": \"briefs_outer clearfix\"})\n",
    "content_list = content.find_all(\"div\", {\"class\": \"brief_box\"})\n",
    "\n",
    "head_list = []\n",
    "content_dic = {}\n",
    "for data in content_list:\n",
    "    try:\n",
    "        head_list.append(data.find(\"h2\").text)\n",
    "        content_list.append(data.find(\"p\").text)\n",
    "        content_dic[data.find(\"h2\").text] = data.find(\"p\").text\n",
    "\n",
    "    except:\n",
    "        pass\n",
    "return content_dic\n",
    "\n",
    "\n",
    "\n"
   ]
  }
 ],
 "metadata": {
  "kernelspec": {
   "display_name": "Python 3",
   "language": "python",
   "name": "python3"
  },
  "language_info": {
   "codemirror_mode": {
    "name": "ipython",
    "version": 3
   },
   "file_extension": ".py",
   "mimetype": "text/x-python",
   "name": "python",
   "nbconvert_exporter": "python",
   "pygments_lexer": "ipython3",
   "version": "3.8.10"
  }
 },
 "nbformat": 4,
 "nbformat_minor": 4
}
